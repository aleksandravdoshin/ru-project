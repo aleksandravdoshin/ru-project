{
 "cells": [
  {
   "cell_type": "code",
   "execution_count": 1,
   "metadata": {},
   "outputs": [],
   "source": [
    "import numpy as np\n",
    "import pandas as pd\n",
    "from scipy.spatial.transform import Rotation as R\n",
    "import sys\n",
    "import os\n",
    "sys.path.insert(0, os.path.abspath('../src'))\n",
    "from functions import *\n",
    "from lammps_data_reader import *"
   ]
  },
  {
   "cell_type": "markdown",
   "metadata": {},
   "source": [
    "# Create cif"
   ]
  },
  {
   "cell_type": "code",
   "execution_count": 14,
   "metadata": {},
   "outputs": [],
   "source": [
    "df = read_pdb('../files/POSCAR.pdb')\n",
    "h2o = read_pdb('../files/h2o.pdb')\n",
    "h2o.loc[:, list('xyz')] -= h2o.loc[2, ['x', 'y', 'z']].values\n",
    "h2o.loc[:, list('xyz')] += np.array([5, 5, 5])\n",
    "\n",
    "parameters, _ = read_cif_data('../files/NU1000h2o_1_1_1.cif')\n",
    "df.loc[:, list('xyz')] = cartesian_to_lattice(df[['x', 'y', 'z']].values, parameters)\n",
    "h2o.loc[:, list('xyz')] = cartesian_to_lattice(h2o[['x', 'y', 'z']].values, parameters)\n",
    "\n",
    "write_cif('../files/h2o.cif', parameters, h2o)\n",
    "write_cif('../files/POSCAR.cif', parameters, df)"
   ]
  },
  {
   "cell_type": "code",
   "execution_count": 16,
   "metadata": {},
   "outputs": [
    {
     "name": "stderr",
     "output_type": "stream",
     "text": [
      "The latest version of Julia in the `release` channel is 1.10.4+0.x64.w64.mingw32. You currently have `1.9.3+0.x64.w64.mingw32` installed. Run:\n",
      "\n",
      "  juliaup update\n",
      "\n",
      "in your terminal shell to install Julia 1.10.4+0.x64.w64.mingw32 and update the `release` channel to that version.\n",
      "ERROR: SystemError: opening file \"c:\\\\Users\\\\lt0828\\\\Desktop\\\\PhD\\\\ru-project\\\\notebooks\\\\run_packmol.jl\": No such file or directory\n",
      "Stacktrace:\n",
      "  [1] systemerror(p::String, errno::Int32; extrainfo::Nothing)\n",
      "    @ Base .\\error.jl:176\n",
      "  [2] #systemerror#82\n",
      "    @ .\\error.jl:175 [inlined]\n",
      "  [3] systemerror\n",
      "    @ .\\error.jl:175 [inlined]\n",
      "  [4] open(fname::String; lock::Bool, read::Nothing, write::Nothing, create::Nothing, truncate::Nothing, append::Nothing)\n",
      "    @ Base .\\iostream.jl:293\n",
      "  [5] open\n",
      "    @ .\\iostream.jl:275 [inlined]\n",
      "  [6] open(f::Base.var\"#418#419\"{String}, args::String; kwargs::Base.Pairs{Symbol, Union{}, Tuple{}, NamedTuple{(), Tuple{}}})\n",
      "    @ Base .\\io.jl:393\n",
      "  [7] open\n",
      "    @ .\\io.jl:392 [inlined]\n",
      "  [8] read\n",
      "    @ .\\io.jl:473 [inlined]\n",
      "  [9] _include(mapexpr::Function, mod::Module, _path::String)\n",
      "    @ Base .\\loading.jl:1959\n",
      " [10] include(mod::Module, _path::String)\n",
      "    @ Base .\\Base.jl:457\n",
      " [11] exec_options(opts::Base.JLOptions)\n",
      "    @ Base .\\client.jl:307\n",
      " [12] _start()\n",
      "    @ Base .\\client.jl:522\n"
     ]
    }
   ],
   "source": [
    "!julia run_packmol.jl"
   ]
  },
  {
   "cell_type": "markdown",
   "metadata": {},
   "source": [
    "# Create data"
   ]
  },
  {
   "cell_type": "markdown",
   "metadata": {},
   "source": [
    "## Packmol"
   ]
  },
  {
   "cell_type": "code",
   "execution_count": 26,
   "metadata": {},
   "outputs": [
    {
     "data": {
      "text/plain": [
       "110.44374079629975"
      ]
     },
     "execution_count": 26,
     "metadata": {},
     "output_type": "execute_result"
    }
   ],
   "source": [
    "df = read_pdb('../files/POSCAR.pdb')\n",
    "r = (np.abs(df.loc[:, list('xyz')].min() - df.loc[:, list('xyz')].max())/2).mean()\n",
    "v = 4/3 * np.pi * r**3\n",
    "\n",
    "# Задаем объем в ангстремах\n",
    "v_angstrom = v = 15 ** 3 - v\n",
    "\n",
    "# Константы\n",
    "density = 1  # г/см^3 (плотность воды)\n",
    "molecular_mass = 18  # г/моль (молекулярная масса воды)\n",
    "avogadro_number = 6.022e23  # Число Авогадро\n",
    "\n",
    "# Переводим объем в см^3 (1 см^3 = 10^24 Å^3)\n",
    "v_cm3 = v_angstrom / 1e24\n",
    "\n",
    "# Находим количество молекул воды\n",
    "# Масса воды в данном объеме (граммы) = плотность * объем\n",
    "mass_water = density * v_cm3\n",
    "\n",
    "# Количество молекул воды = (масса воды / масса одной молекулы воды)\n",
    "mass_per_molecule = molecular_mass / avogadro_number\n",
    "num_molecules = mass_water / mass_per_molecule\n",
    "\n",
    "num_molecules\n"
   ]
  },
  {
   "cell_type": "markdown",
   "metadata": {},
   "source": [
    "## Lammps"
   ]
  },
  {
   "cell_type": "code",
   "execution_count": 15,
   "metadata": {},
   "outputs": [
    {
     "data": {
      "text/html": [
       "<div>\n",
       "<style scoped>\n",
       "    .dataframe tbody tr th:only-of-type {\n",
       "        vertical-align: middle;\n",
       "    }\n",
       "\n",
       "    .dataframe tbody tr th {\n",
       "        vertical-align: top;\n",
       "    }\n",
       "\n",
       "    .dataframe thead th {\n",
       "        text-align: right;\n",
       "    }\n",
       "</style>\n",
       "<table border=\"1\" class=\"dataframe\">\n",
       "  <thead>\n",
       "    <tr style=\"text-align: right;\">\n",
       "      <th></th>\n",
       "      <th>id</th>\n",
       "      <th>mol_id</th>\n",
       "      <th>atom_type</th>\n",
       "      <th>q</th>\n",
       "      <th>x</th>\n",
       "      <th>y</th>\n",
       "      <th>z</th>\n",
       "    </tr>\n",
       "  </thead>\n",
       "  <tbody>\n",
       "    <tr>\n",
       "      <th>0</th>\n",
       "      <td>1</td>\n",
       "      <td>444</td>\n",
       "      <td>1</td>\n",
       "      <td>0.0</td>\n",
       "      <td>19.94738</td>\n",
       "      <td>2.47283</td>\n",
       "      <td>0.00068</td>\n",
       "    </tr>\n",
       "    <tr>\n",
       "      <th>1</th>\n",
       "      <td>2</td>\n",
       "      <td>444</td>\n",
       "      <td>1</td>\n",
       "      <td>0.0</td>\n",
       "      <td>1.84776</td>\n",
       "      <td>34.52815</td>\n",
       "      <td>14.78947</td>\n",
       "    </tr>\n",
       "    <tr>\n",
       "      <th>2</th>\n",
       "      <td>3</td>\n",
       "      <td>444</td>\n",
       "      <td>1</td>\n",
       "      <td>0.0</td>\n",
       "      <td>21.65848</td>\n",
       "      <td>0.00790</td>\n",
       "      <td>1.85098</td>\n",
       "    </tr>\n",
       "    <tr>\n",
       "      <th>3</th>\n",
       "      <td>4</td>\n",
       "      <td>444</td>\n",
       "      <td>1</td>\n",
       "      <td>0.0</td>\n",
       "      <td>-1.85260</td>\n",
       "      <td>34.52519</td>\n",
       "      <td>1.70710</td>\n",
       "    </tr>\n",
       "    <tr>\n",
       "      <th>4</th>\n",
       "      <td>5</td>\n",
       "      <td>444</td>\n",
       "      <td>1</td>\n",
       "      <td>0.0</td>\n",
       "      <td>0.00261</td>\n",
       "      <td>32.05369</td>\n",
       "      <td>0.00233</td>\n",
       "    </tr>\n",
       "    <tr>\n",
       "      <th>...</th>\n",
       "      <td>...</td>\n",
       "      <td>...</td>\n",
       "      <td>...</td>\n",
       "      <td>...</td>\n",
       "      <td>...</td>\n",
       "      <td>...</td>\n",
       "      <td>...</td>\n",
       "    </tr>\n",
       "    <tr>\n",
       "      <th>1139</th>\n",
       "      <td>1140</td>\n",
       "      <td>444</td>\n",
       "      <td>5</td>\n",
       "      <td>0.0</td>\n",
       "      <td>10.39751</td>\n",
       "      <td>13.99661</td>\n",
       "      <td>30.55229</td>\n",
       "    </tr>\n",
       "    <tr>\n",
       "      <th>1140</th>\n",
       "      <td>1141</td>\n",
       "      <td>444</td>\n",
       "      <td>5</td>\n",
       "      <td>0.0</td>\n",
       "      <td>13.03755</td>\n",
       "      <td>18.57078</td>\n",
       "      <td>30.58569</td>\n",
       "    </tr>\n",
       "    <tr>\n",
       "      <th>1141</th>\n",
       "      <td>1142</td>\n",
       "      <td>444</td>\n",
       "      <td>6</td>\n",
       "      <td>0.0</td>\n",
       "      <td>11.89645</td>\n",
       "      <td>20.68152</td>\n",
       "      <td>31.77468</td>\n",
       "    </tr>\n",
       "    <tr>\n",
       "      <th>1142</th>\n",
       "      <td>1143</td>\n",
       "      <td>444</td>\n",
       "      <td>4</td>\n",
       "      <td>0.0</td>\n",
       "      <td>9.79971</td>\n",
       "      <td>19.73986</td>\n",
       "      <td>16.55413</td>\n",
       "    </tr>\n",
       "    <tr>\n",
       "      <th>1143</th>\n",
       "      <td>1144</td>\n",
       "      <td>444</td>\n",
       "      <td>4</td>\n",
       "      <td>0.0</td>\n",
       "      <td>11.60257</td>\n",
       "      <td>18.00274</td>\n",
       "      <td>16.52990</td>\n",
       "    </tr>\n",
       "  </tbody>\n",
       "</table>\n",
       "<p>1144 rows × 7 columns</p>\n",
       "</div>"
      ],
      "text/plain": [
       "        id  mol_id  atom_type    q         x         y         z\n",
       "0        1     444          1  0.0  19.94738   2.47283   0.00068\n",
       "1        2     444          1  0.0   1.84776  34.52815  14.78947\n",
       "2        3     444          1  0.0  21.65848   0.00790   1.85098\n",
       "3        4     444          1  0.0  -1.85260  34.52519   1.70710\n",
       "4        5     444          1  0.0   0.00261  32.05369   0.00233\n",
       "...    ...     ...        ...  ...       ...       ...       ...\n",
       "1139  1140     444          5  0.0  10.39751  13.99661  30.55229\n",
       "1140  1141     444          5  0.0  13.03755  18.57078  30.58569\n",
       "1141  1142     444          6  0.0  11.89645  20.68152  31.77468\n",
       "1142  1143     444          4  0.0   9.79971  19.73986  16.55413\n",
       "1143  1144     444          4  0.0  11.60257  18.00274  16.52990\n",
       "\n",
       "[1144 rows x 7 columns]"
      ]
     },
     "execution_count": 15,
     "metadata": {},
     "output_type": "execute_result"
    }
   ],
   "source": [
    "data = LammpsData('../files/data.NU1000h2o_ru')\n",
    "data.read()\n",
    "data.atoms"
   ]
  }
 ],
 "metadata": {
  "kernelspec": {
   "display_name": "base",
   "language": "python",
   "name": "python3"
  },
  "language_info": {
   "codemirror_mode": {
    "name": "ipython",
    "version": 3
   },
   "file_extension": ".py",
   "mimetype": "text/x-python",
   "name": "python",
   "nbconvert_exporter": "python",
   "pygments_lexer": "ipython3",
   "version": "3.11.3"
  }
 },
 "nbformat": 4,
 "nbformat_minor": 2
}
